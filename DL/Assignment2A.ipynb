{
 "cells": [
  {
   "cell_type": "markdown",
   "metadata": {},
   "source": [
    "AIM: Multiclass classification using Deep Neural Networks: Example: Use the OCR letter recognition."
   ]
  },
  {
   "cell_type": "code",
   "execution_count": 1,
   "metadata": {
    "colab": {
     "base_uri": "https://localhost:8080/",
     "height": 0
    },
    "id": "3V3yyv1tBCxr",
    "outputId": "73d0043b-78f0-42c9-80e1-c58a58a1cd17"
   },
   "outputs": [
    {
     "name": "stdout",
     "output_type": "stream",
     "text": [
      "Epoch 1/10\n",
      "500/500 [==============================] - 3s 4ms/step - loss: 1.9984 - accuracy: 0.4346 - val_loss: 1.2319 - val_accuracy: 0.6425\n",
      "Epoch 2/10\n",
      "500/500 [==============================] - 2s 3ms/step - loss: 1.0625 - accuracy: 0.7004 - val_loss: 0.9160 - val_accuracy: 0.7465\n",
      "Epoch 3/10\n",
      "500/500 [==============================] - 2s 3ms/step - loss: 0.8774 - accuracy: 0.7491 - val_loss: 0.8209 - val_accuracy: 0.7620\n",
      "Epoch 4/10\n",
      "500/500 [==============================] - 2s 3ms/step - loss: 0.7857 - accuracy: 0.7741 - val_loss: 0.7544 - val_accuracy: 0.7900\n",
      "Epoch 5/10\n",
      "500/500 [==============================] - 2s 4ms/step - loss: 0.7158 - accuracy: 0.7921 - val_loss: 0.7114 - val_accuracy: 0.7883\n",
      "Epoch 6/10\n",
      "500/500 [==============================] - 2s 3ms/step - loss: 0.6656 - accuracy: 0.8048 - val_loss: 0.6278 - val_accuracy: 0.8152\n",
      "Epoch 7/10\n",
      "500/500 [==============================] - 2s 3ms/step - loss: 0.6215 - accuracy: 0.8158 - val_loss: 0.5966 - val_accuracy: 0.8227\n",
      "Epoch 8/10\n",
      "500/500 [==============================] - 2s 3ms/step - loss: 0.5870 - accuracy: 0.8278 - val_loss: 0.5654 - val_accuracy: 0.8260\n",
      "Epoch 9/10\n",
      "500/500 [==============================] - 2s 3ms/step - loss: 0.5529 - accuracy: 0.8353 - val_loss: 0.5393 - val_accuracy: 0.8357\n",
      "Epoch 10/10\n",
      "500/500 [==============================] - 2s 3ms/step - loss: 0.5255 - accuracy: 0.8422 - val_loss: 0.5228 - val_accuracy: 0.8485\n",
      "125/125 [==============================] - 0s 3ms/step - loss: 0.5228 - accuracy: 0.8485\n",
      "Test Loss: 0.5228\n",
      "Test Accuracy: 0.8485\n"
     ]
    }
   ],
   "source": [
    "import pandas as pd\n",
    "import numpy as np\n",
    "from sklearn.model_selection import train_test_split\n",
    "from sklearn.preprocessing import LabelEncoder\n",
    "from tensorflow.keras.models import Sequential\n",
    "from tensorflow.keras.layers import Dense\n",
    "from tensorflow.keras.utils import to_categorical\n",
    "\n",
    "# Load the OCR letter recognition dataset\n",
    "url = \"https://archive.ics.uci.edu/ml/machine-learning-databases/letter-recognition/letter-recognition.data\"\n",
    "column_names = ['letter', 'x-box', 'y-box', 'width', 'height', 'onpix', 'x-bar', 'y-bar', 'x2bar', 'y2bar', 'xybar', 'x2ybr', 'xy2br', 'x-ege', 'xegvy', 'y-ege', 'yegvx']\n",
    "data = pd.read_csv(url, names=column_names)\n",
    "\n",
    "# Split the data into features and labels\n",
    "X = data.drop('letter', axis=1)\n",
    "y = data['letter']\n",
    "\n",
    "# Convert labels to integers using LabelEncoder\n",
    "label_encoder = LabelEncoder()\n",
    "y = label_encoder.fit_transform(y)\n",
    "\n",
    "# Split the data into training and testing sets\n",
    "X_train, X_test, y_train, y_test = train_test_split(X, y, test_size=0.2, random_state=42)\n",
    "\n",
    "# Convert the labels to one-hot encoding\n",
    "y_train = to_categorical(y_train)\n",
    "y_test = to_categorical(y_test)\n",
    "\n",
    "# Create a deep neural network model\n",
    "model = Sequential()\n",
    "model.add(Dense(64, input_dim=X_train.shape[1], activation='relu'))\n",
    "model.add(Dense(32, activation='relu'))\n",
    "model.add(Dense(len(label_encoder.classes_), activation='softmax'))\n",
    "\n",
    "# Compile the model\n",
    "model.compile(loss='categorical_crossentropy', optimizer='adam', metrics=['accuracy'])\n",
    "\n",
    "# Train the model\n",
    "model.fit(X_train, y_train, epochs=10, batch_size=32, validation_data=(X_test, y_test))\n",
    "\n",
    "# Evaluate the model\n",
    "loss, accuracy = model.evaluate(X_test, y_test)\n",
    "print(f\"Test Loss: {loss:.4f}\")\n",
    "print(f\"Test Accuracy: {accuracy:.4f}\")\n",
    "\n"
   ]
  },
  {
   "cell_type": "code",
   "execution_count": 2,
   "metadata": {
    "colab": {
     "base_uri": "https://localhost:8080/",
     "height": 0
    },
    "id": "5F9u-0Z3BquB",
    "outputId": "bf8b8911-1cd4-4c0f-dfa9-71ca097f3ce5"
   },
   "outputs": [
    {
     "name": "stdout",
     "output_type": "stream",
     "text": [
      "1/1 [==============================] - 0s 168ms/step\n",
      "Example 1 Prediction: C\n",
      "Example 2 Prediction: T\n",
      "Example 3 Prediction: S\n",
      "Example 4 Prediction: A\n"
     ]
    }
   ],
   "source": [
    "# Manual input examples\n",
    "examples = np.array([[7,7,2,5,4,6,6,6,5,13,12,13,2,9,3,7],[6,9,6,7,5,6,11,3,7,11,9,5,2,12,2,4],\n",
    "[2,3,4,2,1,8,7,2,6,10,6,8,1,9,5,8],[4,9,6,6,2,9,5,3,1,8,1,8,2,7,2,8]])\n",
    "\n",
    "# Make predictions\n",
    "predictions = model.predict(examples)\n",
    "predicted_letters = label_encoder.inverse_transform(np.argmax(predictions, axis=1))\n",
    "\n",
    "# Display predictions\n",
    "for i in range(len(examples)):\n",
    "    print(f\"Example {i+1} Prediction: {predicted_letters[i]}\")\n"
   ]
  }
 ],
 "metadata": {
  "colab": {
   "provenance": []
  },
  "kernelspec": {
   "display_name": "Python 3 (ipykernel)",
   "language": "python",
   "name": "python3"
  },
  "language_info": {
   "codemirror_mode": {
    "name": "ipython",
    "version": 3
   },
   "file_extension": ".py",
   "mimetype": "text/x-python",
   "name": "python",
   "nbconvert_exporter": "python",
   "pygments_lexer": "ipython3",
   "version": "3.9.7"
  }
 },
 "nbformat": 4,
 "nbformat_minor": 1
}
